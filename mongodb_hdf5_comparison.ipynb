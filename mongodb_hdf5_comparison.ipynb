{
 "cells": [
  {
   "cell_type": "code",
   "execution_count": 1,
   "id": "1ae83d38-4cc6-4685-a0a3-374deb3b784c",
   "metadata": {},
   "outputs": [],
   "source": [
    "import pandas as pd\n",
    "from pymongo import MongoClient\n",
    "import numpy as np\n",
    "import pymongoarrow\n",
    "from pymongoarrow.monkey import patch_all\n",
    "import time"
   ]
  },
  {
   "cell_type": "code",
   "execution_count": 2,
   "id": "4a86e1b1-1608-4c9c-9650-e6a8ed5d4cbd",
   "metadata": {},
   "outputs": [],
   "source": [
    "import sys"
   ]
  },
  {
   "cell_type": "code",
   "execution_count": 3,
   "id": "2a216421-c682-4cd3-b5ef-39c06e11cdfb",
   "metadata": {},
   "outputs": [],
   "source": [
    "patch_all()"
   ]
  },
  {
   "cell_type": "code",
   "execution_count": 4,
   "id": "6bef1c37-4174-47d3-af97-211fb1cdde95",
   "metadata": {},
   "outputs": [],
   "source": [
    "# Initialize mongo connector object with ip adress\n",
    "client = MongoClient('localhost')\n",
    "# Get reference to existing database testDB\n",
    "db = client.testDB\n",
    "# Authentication within database\n",
    "# db.authenticate('', 'zbtMongo!', source='admin')\n",
    "collection = db.test_time_series"
   ]
  },
  {
   "cell_type": "code",
   "execution_count": 5,
   "id": "0cabb79d-a0ec-44b1-ab2b-204c7be0ab71",
   "metadata": {},
   "outputs": [],
   "source": [
    "rows = int(1e5)\n",
    "cols = 100\n",
    "# Create test data\n",
    "array = np.random.rand(rows, cols)"
   ]
  },
  {
   "cell_type": "code",
   "execution_count": 6,
   "id": "cd4114b9-c099-4218-b701-09ddb3d02a8e",
   "metadata": {},
   "outputs": [],
   "source": [
    "df = pd.DataFrame(array, index=pd.date_range('2000-01-01', freq='s', periods=rows), columns=['col_' + str(i) for i in range(cols)])\n",
    "df['time'] = df.index"
   ]
  },
  {
   "cell_type": "code",
   "execution_count": 8,
   "id": "2fa3d17e-eab2-44ac-bcbb-770bef7c8105",
   "metadata": {},
   "outputs": [
    {
     "name": "stdout",
     "output_type": "stream",
     "text": [
      "7.790128707885742\n"
     ]
    }
   ],
   "source": [
    "time_start = time.time()\n",
    "pymongoarrow.api.write(collection, df)\n",
    "time_end = time.time()\n",
    "print(time_end - time_start)"
   ]
  },
  {
   "cell_type": "code",
   "execution_count": 9,
   "id": "9afc1bfd-f998-4d23-ad88-7fb56aff1eb4",
   "metadata": {},
   "outputs": [
    {
     "name": "stdout",
     "output_type": "stream",
     "text": [
      "3.7498583793640137\n"
     ]
    }
   ],
   "source": [
    "time_start = time.time()\n",
    "df_retrieved = collection.find_pandas_all({})\n",
    "time_end = time.time()\n",
    "print(time_end - time_start)"
   ]
  },
  {
   "cell_type": "code",
   "execution_count": 10,
   "id": "bf800512-7661-40a6-bc45-28b7f6ad5751",
   "metadata": {},
   "outputs": [
    {
     "name": "stdout",
     "output_type": "stream",
     "text": [
      "2.401934862136841\n"
     ]
    }
   ],
   "source": [
    "# Retrieve data again\n",
    "time_start = time.time()\n",
    "df_retrieved_subset = collection.find_pandas_all({'col_0': {'$gt': 0.5}})\n",
    "time_end = time.time()\n",
    "print(time_end - time_start)"
   ]
  },
  {
   "cell_type": "code",
   "execution_count": 11,
   "id": "3ce88a7c-b4c0-4304-96ed-6a645e82463c",
   "metadata": {},
   "outputs": [
    {
     "data": {
      "text/plain": [
       "20200000"
      ]
     },
     "execution_count": 11,
     "metadata": {},
     "output_type": "execute_result"
    }
   ],
   "source": [
    "df_retrieved.size"
   ]
  },
  {
   "cell_type": "code",
   "execution_count": 12,
   "id": "4ea9069b-b42d-49dd-918f-67151e235ffe",
   "metadata": {},
   "outputs": [
    {
     "data": {
      "text/plain": [
       "10100000"
      ]
     },
     "execution_count": 12,
     "metadata": {},
     "output_type": "execute_result"
    }
   ],
   "source": [
    "df.size"
   ]
  },
  {
   "cell_type": "code",
   "execution_count": 13,
   "id": "49e87732-5ef8-4a69-86cb-df68e95af828",
   "metadata": {},
   "outputs": [
    {
     "name": "stdout",
     "output_type": "stream",
     "text": [
      "3.1924328804016113\n"
     ]
    }
   ],
   "source": [
    "time_start = time.time()\n",
    "df_retrieved_normal_way = list(collection.find({}))\n",
    "time_end = time.time()\n",
    "print(time_end - time_start)"
   ]
  },
  {
   "cell_type": "code",
   "execution_count": 15,
   "id": "049dba97-d646-4d74-b42f-110fbf616546",
   "metadata": {},
   "outputs": [],
   "source": [
    "hdf_path = 'hdf.h5'"
   ]
  },
  {
   "cell_type": "code",
   "execution_count": 29,
   "id": "d9061cdc-8b71-432c-8c45-c8dedb78ccc5",
   "metadata": {},
   "outputs": [
    {
     "name": "stdout",
     "output_type": "stream",
     "text": [
      "0.13539433479309082\n"
     ]
    }
   ],
   "source": [
    "time_start = time.time()\n",
    "df.to_hdf(hdf_path, key='a', complevel=0, mode='w')\n",
    "time_end = time.time()\n",
    "print(time_end - time_start)"
   ]
  },
  {
   "cell_type": "code",
   "execution_count": 19,
   "id": "b4d4bd80-5fdc-4478-a187-2bff6f6e593c",
   "metadata": {},
   "outputs": [
    {
     "name": "stdout",
     "output_type": "stream",
     "text": [
      "0.20710015296936035\n"
     ]
    }
   ],
   "source": [
    "time_start = time.time()\n",
    "df_from_hdf5 = pd.read_hdf(hdf_path, key='a', mode='r+')\n",
    "time_end = time.time()\n",
    "print(time_end - time_start)"
   ]
  },
  {
   "cell_type": "code",
   "execution_count": 147,
   "id": "a8b9f46d-9ed5-4797-a02b-74f8eb1468bc",
   "metadata": {},
   "outputs": [
    {
     "data": {
      "text/html": [
       "<div>\n",
       "<style scoped>\n",
       "    .dataframe tbody tr th:only-of-type {\n",
       "        vertical-align: middle;\n",
       "    }\n",
       "\n",
       "    .dataframe tbody tr th {\n",
       "        vertical-align: top;\n",
       "    }\n",
       "\n",
       "    .dataframe thead th {\n",
       "        text-align: right;\n",
       "    }\n",
       "</style>\n",
       "<table border=\"1\" class=\"dataframe\">\n",
       "  <thead>\n",
       "    <tr style=\"text-align: right;\">\n",
       "      <th></th>\n",
       "      <th>col_0</th>\n",
       "      <th>col_1</th>\n",
       "      <th>col_2</th>\n",
       "      <th>col_3</th>\n",
       "      <th>col_4</th>\n",
       "      <th>col_5</th>\n",
       "      <th>col_6</th>\n",
       "      <th>col_7</th>\n",
       "      <th>col_8</th>\n",
       "      <th>col_9</th>\n",
       "      <th>...</th>\n",
       "      <th>col_91</th>\n",
       "      <th>col_92</th>\n",
       "      <th>col_93</th>\n",
       "      <th>col_94</th>\n",
       "      <th>col_95</th>\n",
       "      <th>col_96</th>\n",
       "      <th>col_97</th>\n",
       "      <th>col_98</th>\n",
       "      <th>col_99</th>\n",
       "      <th>time</th>\n",
       "    </tr>\n",
       "  </thead>\n",
       "  <tbody>\n",
       "    <tr>\n",
       "      <th>2000-01-01 00:00:00</th>\n",
       "      <td>0.880185</td>\n",
       "      <td>0.341446</td>\n",
       "      <td>0.530834</td>\n",
       "      <td>0.927703</td>\n",
       "      <td>0.913664</td>\n",
       "      <td>0.435048</td>\n",
       "      <td>0.910705</td>\n",
       "      <td>0.326699</td>\n",
       "      <td>0.071028</td>\n",
       "      <td>0.102509</td>\n",
       "      <td>...</td>\n",
       "      <td>0.473896</td>\n",
       "      <td>0.730774</td>\n",
       "      <td>0.617050</td>\n",
       "      <td>0.992128</td>\n",
       "      <td>0.163981</td>\n",
       "      <td>0.472986</td>\n",
       "      <td>0.225467</td>\n",
       "      <td>0.636388</td>\n",
       "      <td>0.034135</td>\n",
       "      <td>2000-01-01 00:00:00</td>\n",
       "    </tr>\n",
       "    <tr>\n",
       "      <th>2000-01-01 00:00:01</th>\n",
       "      <td>0.605338</td>\n",
       "      <td>0.308805</td>\n",
       "      <td>0.527641</td>\n",
       "      <td>0.910448</td>\n",
       "      <td>0.622999</td>\n",
       "      <td>0.061641</td>\n",
       "      <td>0.701104</td>\n",
       "      <td>0.741101</td>\n",
       "      <td>0.654573</td>\n",
       "      <td>0.423729</td>\n",
       "      <td>...</td>\n",
       "      <td>0.664549</td>\n",
       "      <td>0.973825</td>\n",
       "      <td>0.388033</td>\n",
       "      <td>0.367770</td>\n",
       "      <td>0.169702</td>\n",
       "      <td>0.758390</td>\n",
       "      <td>0.500432</td>\n",
       "      <td>0.423932</td>\n",
       "      <td>0.910362</td>\n",
       "      <td>2000-01-01 00:00:01</td>\n",
       "    </tr>\n",
       "    <tr>\n",
       "      <th>2000-01-01 00:00:02</th>\n",
       "      <td>0.792940</td>\n",
       "      <td>0.788402</td>\n",
       "      <td>0.529808</td>\n",
       "      <td>0.493923</td>\n",
       "      <td>0.030398</td>\n",
       "      <td>0.003776</td>\n",
       "      <td>0.236131</td>\n",
       "      <td>0.790750</td>\n",
       "      <td>0.383832</td>\n",
       "      <td>0.992554</td>\n",
       "      <td>...</td>\n",
       "      <td>0.371189</td>\n",
       "      <td>0.292284</td>\n",
       "      <td>0.893308</td>\n",
       "      <td>0.045706</td>\n",
       "      <td>0.759019</td>\n",
       "      <td>0.877136</td>\n",
       "      <td>0.452222</td>\n",
       "      <td>0.058064</td>\n",
       "      <td>0.646174</td>\n",
       "      <td>2000-01-01 00:00:02</td>\n",
       "    </tr>\n",
       "    <tr>\n",
       "      <th>2000-01-01 00:00:03</th>\n",
       "      <td>0.371363</td>\n",
       "      <td>0.012019</td>\n",
       "      <td>0.456096</td>\n",
       "      <td>0.884868</td>\n",
       "      <td>0.994874</td>\n",
       "      <td>0.231378</td>\n",
       "      <td>0.133658</td>\n",
       "      <td>0.722620</td>\n",
       "      <td>0.497263</td>\n",
       "      <td>0.909484</td>\n",
       "      <td>...</td>\n",
       "      <td>0.415123</td>\n",
       "      <td>0.391233</td>\n",
       "      <td>0.889884</td>\n",
       "      <td>0.075738</td>\n",
       "      <td>0.807016</td>\n",
       "      <td>0.566469</td>\n",
       "      <td>0.980149</td>\n",
       "      <td>0.647851</td>\n",
       "      <td>0.662446</td>\n",
       "      <td>2000-01-01 00:00:03</td>\n",
       "    </tr>\n",
       "    <tr>\n",
       "      <th>2000-01-01 00:00:04</th>\n",
       "      <td>0.244592</td>\n",
       "      <td>0.984510</td>\n",
       "      <td>0.111222</td>\n",
       "      <td>0.736480</td>\n",
       "      <td>0.590262</td>\n",
       "      <td>0.667714</td>\n",
       "      <td>0.131390</td>\n",
       "      <td>0.043353</td>\n",
       "      <td>0.679059</td>\n",
       "      <td>0.193599</td>\n",
       "      <td>...</td>\n",
       "      <td>0.050987</td>\n",
       "      <td>0.898388</td>\n",
       "      <td>0.174978</td>\n",
       "      <td>0.244764</td>\n",
       "      <td>0.635364</td>\n",
       "      <td>0.604340</td>\n",
       "      <td>0.087393</td>\n",
       "      <td>0.575411</td>\n",
       "      <td>0.411274</td>\n",
       "      <td>2000-01-01 00:00:04</td>\n",
       "    </tr>\n",
       "  </tbody>\n",
       "</table>\n",
       "<p>5 rows × 101 columns</p>\n",
       "</div>"
      ],
      "text/plain": [
       "                        col_0     col_1     col_2     col_3     col_4  \\\n",
       "2000-01-01 00:00:00  0.880185  0.341446  0.530834  0.927703  0.913664   \n",
       "2000-01-01 00:00:01  0.605338  0.308805  0.527641  0.910448  0.622999   \n",
       "2000-01-01 00:00:02  0.792940  0.788402  0.529808  0.493923  0.030398   \n",
       "2000-01-01 00:00:03  0.371363  0.012019  0.456096  0.884868  0.994874   \n",
       "2000-01-01 00:00:04  0.244592  0.984510  0.111222  0.736480  0.590262   \n",
       "\n",
       "                        col_5     col_6     col_7     col_8     col_9  ...  \\\n",
       "2000-01-01 00:00:00  0.435048  0.910705  0.326699  0.071028  0.102509  ...   \n",
       "2000-01-01 00:00:01  0.061641  0.701104  0.741101  0.654573  0.423729  ...   \n",
       "2000-01-01 00:00:02  0.003776  0.236131  0.790750  0.383832  0.992554  ...   \n",
       "2000-01-01 00:00:03  0.231378  0.133658  0.722620  0.497263  0.909484  ...   \n",
       "2000-01-01 00:00:04  0.667714  0.131390  0.043353  0.679059  0.193599  ...   \n",
       "\n",
       "                       col_91    col_92    col_93    col_94    col_95  \\\n",
       "2000-01-01 00:00:00  0.473896  0.730774  0.617050  0.992128  0.163981   \n",
       "2000-01-01 00:00:01  0.664549  0.973825  0.388033  0.367770  0.169702   \n",
       "2000-01-01 00:00:02  0.371189  0.292284  0.893308  0.045706  0.759019   \n",
       "2000-01-01 00:00:03  0.415123  0.391233  0.889884  0.075738  0.807016   \n",
       "2000-01-01 00:00:04  0.050987  0.898388  0.174978  0.244764  0.635364   \n",
       "\n",
       "                       col_96    col_97    col_98    col_99  \\\n",
       "2000-01-01 00:00:00  0.472986  0.225467  0.636388  0.034135   \n",
       "2000-01-01 00:00:01  0.758390  0.500432  0.423932  0.910362   \n",
       "2000-01-01 00:00:02  0.877136  0.452222  0.058064  0.646174   \n",
       "2000-01-01 00:00:03  0.566469  0.980149  0.647851  0.662446   \n",
       "2000-01-01 00:00:04  0.604340  0.087393  0.575411  0.411274   \n",
       "\n",
       "                                   time  \n",
       "2000-01-01 00:00:00 2000-01-01 00:00:00  \n",
       "2000-01-01 00:00:01 2000-01-01 00:00:01  \n",
       "2000-01-01 00:00:02 2000-01-01 00:00:02  \n",
       "2000-01-01 00:00:03 2000-01-01 00:00:03  \n",
       "2000-01-01 00:00:04 2000-01-01 00:00:04  \n",
       "\n",
       "[5 rows x 101 columns]"
      ]
     },
     "execution_count": 147,
     "metadata": {},
     "output_type": "execute_result"
    }
   ],
   "source": [
    "df_from_hdf5.head()"
   ]
  },
  {
   "cell_type": "code",
   "execution_count": 148,
   "id": "35eabfb2-5dd8-49ec-b0a2-b315fe462d95",
   "metadata": {},
   "outputs": [
    {
     "name": "stdout",
     "output_type": "stream",
     "text": [
      "0.00989532470703125\n"
     ]
    }
   ],
   "source": [
    "time_start = time.time()\n",
    "store = pd.HDFStore(hdf_path, key='a')\n",
    "time_end = time.time()\n",
    "print(time_end - time_start)"
   ]
  },
  {
   "cell_type": "code",
   "execution_count": 149,
   "id": "d7935d50-5915-4a47-91f6-f2422305ad96",
   "metadata": {},
   "outputs": [
    {
     "name": "stdout",
     "output_type": "stream",
     "text": [
      "0.045256614685058594\n"
     ]
    }
   ],
   "source": [
    "time_start = time.time()\n",
    "df_from_hdf5 = store.get(key='a')\n",
    "time_end = time.time()\n",
    "print(time_end - time_start)"
   ]
  },
  {
   "cell_type": "code",
   "execution_count": 150,
   "id": "d458fb1c-dbc3-4b69-870a-c8e90b65c1b7",
   "metadata": {},
   "outputs": [],
   "source": [
    "hdf_path_table = 'hdf_table.h5'"
   ]
  },
  {
   "cell_type": "code",
   "execution_count": 151,
   "id": "b3b368d7-a828-4a57-83e6-ae30884701ae",
   "metadata": {},
   "outputs": [
    {
     "name": "stdout",
     "output_type": "stream",
     "text": [
      "3.8115391731262207\n"
     ]
    }
   ],
   "source": [
    "time_start = time.time()\n",
    "df.to_hdf(hdf_path_table, key='a', mode='w', data_columns=True,\n",
    "          format='table')\n",
    "time_end = time.time()\n",
    "print(time_end - time_start)"
   ]
  },
  {
   "cell_type": "code",
   "execution_count": 152,
   "id": "e26133d1-fd2d-45fe-b617-1d071ca1cc55",
   "metadata": {},
   "outputs": [
    {
     "name": "stdout",
     "output_type": "stream",
     "text": [
      "0.22289276123046875\n"
     ]
    }
   ],
   "source": [
    "time_start = time.time()\n",
    "df_from_hdf5_subset = pd.read_hdf(hdf_path_table,'a',where='col_0 > 0.5')\n",
    "time_end = time.time()\n",
    "print(time_end - time_start)"
   ]
  },
  {
   "cell_type": "code",
   "execution_count": 153,
   "id": "ff08a906-bfc3-4a19-9070-3e4190a5370b",
   "metadata": {},
   "outputs": [
    {
     "data": {
      "text/plain": [
       "5044546"
      ]
     },
     "execution_count": 153,
     "metadata": {},
     "output_type": "execute_result"
    }
   ],
   "source": [
    "df_from_hdf5_subset.size"
   ]
  },
  {
   "cell_type": "code",
   "execution_count": 154,
   "id": "c3479f0c-c41b-46e4-a758-fbe747e9c895",
   "metadata": {},
   "outputs": [
    {
     "data": {
      "text/html": [
       "<div>\n",
       "<style scoped>\n",
       "    .dataframe tbody tr th:only-of-type {\n",
       "        vertical-align: middle;\n",
       "    }\n",
       "\n",
       "    .dataframe tbody tr th {\n",
       "        vertical-align: top;\n",
       "    }\n",
       "\n",
       "    .dataframe thead th {\n",
       "        text-align: right;\n",
       "    }\n",
       "</style>\n",
       "<table border=\"1\" class=\"dataframe\">\n",
       "  <thead>\n",
       "    <tr style=\"text-align: right;\">\n",
       "      <th></th>\n",
       "      <th>col_0</th>\n",
       "      <th>col_1</th>\n",
       "      <th>col_2</th>\n",
       "      <th>col_3</th>\n",
       "      <th>col_4</th>\n",
       "      <th>col_5</th>\n",
       "      <th>col_6</th>\n",
       "      <th>col_7</th>\n",
       "      <th>col_8</th>\n",
       "      <th>col_9</th>\n",
       "      <th>...</th>\n",
       "      <th>col_91</th>\n",
       "      <th>col_92</th>\n",
       "      <th>col_93</th>\n",
       "      <th>col_94</th>\n",
       "      <th>col_95</th>\n",
       "      <th>col_96</th>\n",
       "      <th>col_97</th>\n",
       "      <th>col_98</th>\n",
       "      <th>col_99</th>\n",
       "      <th>time</th>\n",
       "    </tr>\n",
       "  </thead>\n",
       "  <tbody>\n",
       "    <tr>\n",
       "      <th>2000-01-01 00:00:00</th>\n",
       "      <td>0.880185</td>\n",
       "      <td>0.341446</td>\n",
       "      <td>0.530834</td>\n",
       "      <td>0.927703</td>\n",
       "      <td>0.913664</td>\n",
       "      <td>0.435048</td>\n",
       "      <td>0.910705</td>\n",
       "      <td>0.326699</td>\n",
       "      <td>0.071028</td>\n",
       "      <td>0.102509</td>\n",
       "      <td>...</td>\n",
       "      <td>0.473896</td>\n",
       "      <td>0.730774</td>\n",
       "      <td>0.617050</td>\n",
       "      <td>0.992128</td>\n",
       "      <td>0.163981</td>\n",
       "      <td>0.472986</td>\n",
       "      <td>0.225467</td>\n",
       "      <td>0.636388</td>\n",
       "      <td>0.034135</td>\n",
       "      <td>2000-01-01 00:00:00</td>\n",
       "    </tr>\n",
       "    <tr>\n",
       "      <th>2000-01-01 00:00:01</th>\n",
       "      <td>0.605338</td>\n",
       "      <td>0.308805</td>\n",
       "      <td>0.527641</td>\n",
       "      <td>0.910448</td>\n",
       "      <td>0.622999</td>\n",
       "      <td>0.061641</td>\n",
       "      <td>0.701104</td>\n",
       "      <td>0.741101</td>\n",
       "      <td>0.654573</td>\n",
       "      <td>0.423729</td>\n",
       "      <td>...</td>\n",
       "      <td>0.664549</td>\n",
       "      <td>0.973825</td>\n",
       "      <td>0.388033</td>\n",
       "      <td>0.367770</td>\n",
       "      <td>0.169702</td>\n",
       "      <td>0.758390</td>\n",
       "      <td>0.500432</td>\n",
       "      <td>0.423932</td>\n",
       "      <td>0.910362</td>\n",
       "      <td>2000-01-01 00:00:01</td>\n",
       "    </tr>\n",
       "    <tr>\n",
       "      <th>2000-01-01 00:00:02</th>\n",
       "      <td>0.792940</td>\n",
       "      <td>0.788402</td>\n",
       "      <td>0.529808</td>\n",
       "      <td>0.493923</td>\n",
       "      <td>0.030398</td>\n",
       "      <td>0.003776</td>\n",
       "      <td>0.236131</td>\n",
       "      <td>0.790750</td>\n",
       "      <td>0.383832</td>\n",
       "      <td>0.992554</td>\n",
       "      <td>...</td>\n",
       "      <td>0.371189</td>\n",
       "      <td>0.292284</td>\n",
       "      <td>0.893308</td>\n",
       "      <td>0.045706</td>\n",
       "      <td>0.759019</td>\n",
       "      <td>0.877136</td>\n",
       "      <td>0.452222</td>\n",
       "      <td>0.058064</td>\n",
       "      <td>0.646174</td>\n",
       "      <td>2000-01-01 00:00:02</td>\n",
       "    </tr>\n",
       "    <tr>\n",
       "      <th>2000-01-01 00:00:05</th>\n",
       "      <td>0.806128</td>\n",
       "      <td>0.777692</td>\n",
       "      <td>0.020415</td>\n",
       "      <td>0.549179</td>\n",
       "      <td>0.912302</td>\n",
       "      <td>0.517999</td>\n",
       "      <td>0.173441</td>\n",
       "      <td>0.926867</td>\n",
       "      <td>0.690737</td>\n",
       "      <td>0.071964</td>\n",
       "      <td>...</td>\n",
       "      <td>0.114294</td>\n",
       "      <td>0.390363</td>\n",
       "      <td>0.608217</td>\n",
       "      <td>0.584343</td>\n",
       "      <td>0.318525</td>\n",
       "      <td>0.865685</td>\n",
       "      <td>0.950093</td>\n",
       "      <td>0.543761</td>\n",
       "      <td>0.040014</td>\n",
       "      <td>2000-01-01 00:00:05</td>\n",
       "    </tr>\n",
       "    <tr>\n",
       "      <th>2000-01-01 00:00:08</th>\n",
       "      <td>0.800815</td>\n",
       "      <td>0.881069</td>\n",
       "      <td>0.204519</td>\n",
       "      <td>0.856634</td>\n",
       "      <td>0.342663</td>\n",
       "      <td>0.877800</td>\n",
       "      <td>0.121740</td>\n",
       "      <td>0.169093</td>\n",
       "      <td>0.276134</td>\n",
       "      <td>0.341765</td>\n",
       "      <td>...</td>\n",
       "      <td>0.297871</td>\n",
       "      <td>0.792464</td>\n",
       "      <td>0.759755</td>\n",
       "      <td>0.587354</td>\n",
       "      <td>0.526589</td>\n",
       "      <td>0.656214</td>\n",
       "      <td>0.288808</td>\n",
       "      <td>0.607831</td>\n",
       "      <td>0.527161</td>\n",
       "      <td>2000-01-01 00:00:08</td>\n",
       "    </tr>\n",
       "  </tbody>\n",
       "</table>\n",
       "<p>5 rows × 101 columns</p>\n",
       "</div>"
      ],
      "text/plain": [
       "                        col_0     col_1     col_2     col_3     col_4  \\\n",
       "2000-01-01 00:00:00  0.880185  0.341446  0.530834  0.927703  0.913664   \n",
       "2000-01-01 00:00:01  0.605338  0.308805  0.527641  0.910448  0.622999   \n",
       "2000-01-01 00:00:02  0.792940  0.788402  0.529808  0.493923  0.030398   \n",
       "2000-01-01 00:00:05  0.806128  0.777692  0.020415  0.549179  0.912302   \n",
       "2000-01-01 00:00:08  0.800815  0.881069  0.204519  0.856634  0.342663   \n",
       "\n",
       "                        col_5     col_6     col_7     col_8     col_9  ...  \\\n",
       "2000-01-01 00:00:00  0.435048  0.910705  0.326699  0.071028  0.102509  ...   \n",
       "2000-01-01 00:00:01  0.061641  0.701104  0.741101  0.654573  0.423729  ...   \n",
       "2000-01-01 00:00:02  0.003776  0.236131  0.790750  0.383832  0.992554  ...   \n",
       "2000-01-01 00:00:05  0.517999  0.173441  0.926867  0.690737  0.071964  ...   \n",
       "2000-01-01 00:00:08  0.877800  0.121740  0.169093  0.276134  0.341765  ...   \n",
       "\n",
       "                       col_91    col_92    col_93    col_94    col_95  \\\n",
       "2000-01-01 00:00:00  0.473896  0.730774  0.617050  0.992128  0.163981   \n",
       "2000-01-01 00:00:01  0.664549  0.973825  0.388033  0.367770  0.169702   \n",
       "2000-01-01 00:00:02  0.371189  0.292284  0.893308  0.045706  0.759019   \n",
       "2000-01-01 00:00:05  0.114294  0.390363  0.608217  0.584343  0.318525   \n",
       "2000-01-01 00:00:08  0.297871  0.792464  0.759755  0.587354  0.526589   \n",
       "\n",
       "                       col_96    col_97    col_98    col_99  \\\n",
       "2000-01-01 00:00:00  0.472986  0.225467  0.636388  0.034135   \n",
       "2000-01-01 00:00:01  0.758390  0.500432  0.423932  0.910362   \n",
       "2000-01-01 00:00:02  0.877136  0.452222  0.058064  0.646174   \n",
       "2000-01-01 00:00:05  0.865685  0.950093  0.543761  0.040014   \n",
       "2000-01-01 00:00:08  0.656214  0.288808  0.607831  0.527161   \n",
       "\n",
       "                                   time  \n",
       "2000-01-01 00:00:00 2000-01-01 00:00:00  \n",
       "2000-01-01 00:00:01 2000-01-01 00:00:01  \n",
       "2000-01-01 00:00:02 2000-01-01 00:00:02  \n",
       "2000-01-01 00:00:05 2000-01-01 00:00:05  \n",
       "2000-01-01 00:00:08 2000-01-01 00:00:08  \n",
       "\n",
       "[5 rows x 101 columns]"
      ]
     },
     "execution_count": 154,
     "metadata": {},
     "output_type": "execute_result"
    }
   ],
   "source": [
    "df_from_hdf5_subset.head()"
   ]
  },
  {
   "cell_type": "code",
   "execution_count": 155,
   "id": "85158f76-cd86-4e86-bad4-1d13f293e86f",
   "metadata": {},
   "outputs": [
    {
     "data": {
      "text/plain": [
       "10100000"
      ]
     },
     "execution_count": 155,
     "metadata": {},
     "output_type": "execute_result"
    }
   ],
   "source": [
    "df.size"
   ]
  },
  {
   "cell_type": "code",
   "execution_count": null,
   "id": "d4a123ac-5be1-4096-8dfa-4e77340de5c9",
   "metadata": {},
   "outputs": [],
   "source": []
  }
 ],
 "metadata": {
  "kernelspec": {
   "display_name": "Python 3 (ipykernel)",
   "language": "python",
   "name": "python3"
  },
  "language_info": {
   "codemirror_mode": {
    "name": "ipython",
    "version": 3
   },
   "file_extension": ".py",
   "mimetype": "text/x-python",
   "name": "python",
   "nbconvert_exporter": "python",
   "pygments_lexer": "ipython3",
   "version": "3.12.3"
  }
 },
 "nbformat": 4,
 "nbformat_minor": 5
}
